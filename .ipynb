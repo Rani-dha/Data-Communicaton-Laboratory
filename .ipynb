{
 "cells": [
  {
   "cell_type": "code",
   "execution_count": null,
   "metadata": {},
   "outputs": [],
   "source": [
    "#client  side\n",
    "import socket #Importing socket package inorder to use socket\n",
    "s = socket.socket(socket.AF_INET, socket.SOCK_DGRAM)  #Creating the socket\n",
    "Message = str(input(\"Enter the message: \")) #Assigning a variable with message input\n",
    "s.sendto(str.encode(Message),('192.168.56.1',5310)) \n",
    "#Encoding the message along with ip address and port number is send to the server\n",
    "data,address = s.recvfrom(2048) #Message received from server\n",
    "print(data, address) #Display statement"
   ]
  }
 ],
 "metadata": {
  "kernelspec": {
   "display_name": "Python 3",
   "language": "python",
   "name": "python3"
  },
  "language_info": {
   "codemirror_mode": {
    "name": "ipython",
    "version": 3
   },
   "file_extension": ".py",
   "mimetype": "text/x-python",
   "name": "python",
   "nbconvert_exporter": "python",
   "pygments_lexer": "ipython3",
   "version": "3.8.3"
  }
 },
 "nbformat": 4,
 "nbformat_minor": 4
}
