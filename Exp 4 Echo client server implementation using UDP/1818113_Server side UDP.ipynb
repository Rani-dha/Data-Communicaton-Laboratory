{
 "cells": [
  {
   "cell_type": "code",
   "execution_count": null,
   "metadata": {},
   "outputs": [],
   "source": [
    "#server side\n",
    "import socket #importing socket package in order to use socket\n",
    "s = socket.socket(socket.AF_INET, socket.SOCK_DGRAM)#creating a socket\n",
    "s.bind((\"192.168.56.1\",5600))  #binding server socket with  ip address and port number\n",
    "print(\"Server is waiting\") #Display statement\n",
    "data,address = s.recvfrom(2048) #Message along with address is received from client and is decoded here\n",
    "print(data, address)  #Displaying the  received message along with ip addressand port number\n",
    "s.sendto(data, address) #received message is  sent back to the client\n"
   ]
  },
  {
   "cell_type": "code",
   "execution_count": null,
   "metadata": {},
   "outputs": [],
   "source": []
  }
 ],
 "metadata": {
  "kernelspec": {
   "display_name": "Python 3",
   "language": "python",
   "name": "python3"
  },
  "language_info": {
   "codemirror_mode": {
    "name": "ipython",
    "version": 3
   },
   "file_extension": ".py",
   "mimetype": "text/x-python",
   "name": "python",
   "nbconvert_exporter": "python",
   "pygments_lexer": "ipython3",
   "version": "3.8.3"
  }
 },
 "nbformat": 4,
 "nbformat_minor": 4
}
