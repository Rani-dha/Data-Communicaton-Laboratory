{
 "cells": [
  {
   "cell_type": "code",
   "execution_count": 4,
   "metadata": {},
   "outputs": [
    {
     "ename": "OSError",
     "evalue": "[WinError 10049] The requested address is not valid in its context",
     "output_type": "error",
     "traceback": [
      "\u001b[1;31m---------------------------------------------------------------------------\u001b[0m",
      "\u001b[1;31mOSError\u001b[0m                                   Traceback (most recent call last)",
      "\u001b[1;32m<ipython-input-4-3923cdf999c1>\u001b[0m in \u001b[0;36m<module>\u001b[1;34m\u001b[0m\n\u001b[0;32m     12\u001b[0m                                                                  \u001b[1;31m#     * SOCK_DGRAM - It is a datagram-based protocol used in UDP.\u001b[0m\u001b[1;33m\u001b[0m\u001b[1;33m\u001b[0m\u001b[1;33m\u001b[0m\u001b[0m\n\u001b[0;32m     13\u001b[0m \u001b[1;33m\u001b[0m\u001b[0m\n\u001b[1;32m---> 14\u001b[1;33m \u001b[0mserverSocket\u001b[0m\u001b[1;33m.\u001b[0m\u001b[0mbind\u001b[0m\u001b[1;33m(\u001b[0m\u001b[1;33m(\u001b[0m\u001b[0mUDP_IP_Address\u001b[0m\u001b[1;33m,\u001b[0m\u001b[0mUDP_PortNo\u001b[0m\u001b[1;33m)\u001b[0m\u001b[1;33m)\u001b[0m    \u001b[1;31m# Bind to IP and Port to make a Socket Address.\u001b[0m\u001b[1;33m\u001b[0m\u001b[1;33m\u001b[0m\u001b[0m\n\u001b[0m\u001b[0;32m     15\u001b[0m \u001b[1;33m\u001b[0m\u001b[0m\n\u001b[0;32m     16\u001b[0m \u001b[0mprint\u001b[0m\u001b[1;33m(\u001b[0m\u001b[1;34m\"Server is waiting...\"\u001b[0m\u001b[1;33m)\u001b[0m    \u001b[1;31m# Listening for incoming datagrams.\u001b[0m\u001b[1;33m\u001b[0m\u001b[1;33m\u001b[0m\u001b[0m\n",
      "\u001b[1;31mOSError\u001b[0m: [WinError 10049] The requested address is not valid in its context"
     ]
    }
   ],
   "source": [
    "# Python program to implement Client - Server Communication using UDP (User Datagram Protocol)\n",
    "# Server side\n",
    "\n",
    "import socket     # Importing the Socket module.\n",
    "\n",
    "UDP_IP_Address = \"192.168.1.100\"  # Defining the UDP IP address \n",
    "\n",
    "UDP_PortNo = 5500   # Defining the UDP Port number.\n",
    "\n",
    "serverSocket = socket.socket(socket.AF_INET, socket.SOCK_DGRAM)  #  Create the Datagram socket:\n",
    "                                                                 #     * AF_INET - Address family to communicate with Internet Protocol (IPv4).\n",
    "                                                                 #     * SOCK_DGRAM - It is a datagram-based protocol used in UDP.\n",
    "\n",
    "serverSocket.bind((UDP_IP_Address,UDP_PortNo))    # Bind to IP and Port to make a Socket Address.\n",
    "\n",
    "print(\"Server is waiting...\")    # Listening for incoming datagrams.\n",
    "\n",
    "data, address = serverSocket.recvfrom(1024)  # Receiving the Client packet along with the address it is coming from\n",
    "\n",
    "print(\"Client Message: \",data)  # Printing the Client message.\n"
   ]
  },
  {
   "cell_type": "code",
   "execution_count": null,
   "metadata": {},
   "outputs": [],
   "source": []
  },
  {
   "cell_type": "code",
   "execution_count": null,
   "metadata": {},
   "outputs": [],
   "source": []
  },
  {
   "cell_type": "code",
   "execution_count": null,
   "metadata": {},
   "outputs": [],
   "source": []
  }
 ],
 "metadata": {
  "kernelspec": {
   "display_name": "Python 3",
   "language": "python",
   "name": "python3"
  },
  "language_info": {
   "codemirror_mode": {
    "name": "ipython",
    "version": 3
   },
   "file_extension": ".py",
   "mimetype": "text/x-python",
   "name": "python",
   "nbconvert_exporter": "python",
   "pygments_lexer": "ipython3",
   "version": "3.8.3"
  }
 },
 "nbformat": 4,
 "nbformat_minor": 4
}
