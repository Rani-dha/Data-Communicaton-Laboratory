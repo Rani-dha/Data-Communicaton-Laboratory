{
 "cells": [
  {
   "cell_type": "code",
   "execution_count": 1,
   "metadata": {},
   "outputs": [
    {
     "data": {
      "text/plain": [
       "38"
      ]
     },
     "execution_count": 1,
     "metadata": {},
     "output_type": "execute_result"
    }
   ],
   "source": [
    "# Python program to implement Client - Server Communication using UDP (User Datagram Protocol)\n",
    "# Client side\n",
    "\n",
    "import socket     # Importing the Socket module.\n",
    "\n",
    "UDP_IP_Address = \"192.168.1.100\"  # Defining the UDP IP address and port number.\n",
    "\n",
    "UDP_PortNo = 5500   # Defining the UDP Port number.\n",
    "\n",
    "bytesToSend = str.encode(\" Happy Diwali! Greetings from Client! \")\n",
    "\n",
    "CLIENT = socket.socket(socket.AF_INET, socket.SOCK_DGRAM)  #  Creating the Datagram socket:\n",
    "                                                           #     * AF_INET - Address family to communicate with Internet Protocol (IPv4).\n",
    "                                                           #     * SOCK_DGRAM - It is a datagram-based protocol used in UDP.\n",
    "\n",
    "\n",
    "CLIENT.sendto(bytesToSend,(UDP_IP_Address, UDP_PortNo))  # Sending the Data to Server using the created UDP socket.\n"
   ]
  },
  {
   "cell_type": "code",
   "execution_count": null,
   "metadata": {},
   "outputs": [],
   "source": []
  }
 ],
 "metadata": {
  "kernelspec": {
   "display_name": "Python 3",
   "language": "python",
   "name": "python3"
  },
  "language_info": {
   "codemirror_mode": {
    "name": "ipython",
    "version": 3
   },
   "file_extension": ".py",
   "mimetype": "text/x-python",
   "name": "python",
   "nbconvert_exporter": "python",
   "pygments_lexer": "ipython3",
   "version": "3.8.3"
  }
 },
 "nbformat": 4,
 "nbformat_minor": 4
}
