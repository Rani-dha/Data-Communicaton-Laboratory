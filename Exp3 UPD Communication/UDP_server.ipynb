{
 "cells": [
  {
   "cell_type": "code",
   "execution_count": 5,
   "metadata": {},
   "outputs": [
    {
     "name": "stdout",
     "output_type": "stream",
     "text": [
      "Server is waiting...\n",
      "Client Message:  b' Happy Diwali! Greetings from Client! '\n"
     ]
    }
   ],
   "source": [
    "# Python program to implement Client - Server Communication using UDP (User Datagram Protocol)\n",
    "# Server side\n",
    "\n",
    "import socket     # Importing the Socket module.\n",
    "\n",
    "UDP_IP_Address = \"192.168.1.100\"  # Defining the UDP IP address \n",
    "\n",
    "UDP_PortNo = 5500   # Defining the UDP Port number.\n",
    "\n",
    "serverSocket = socket.socket(socket.AF_INET, socket.SOCK_DGRAM)  #  Create the Datagram socket:\n",
    "                                                                 #     * AF_INET - Address family to communicate with Internet Protocol (IPv4).\n",
    "                                                                 #     * SOCK_DGRAM - It is a datagram-based protocol used in UDP.\n",
    "\n",
    "serverSocket.bind((UDP_IP_Address,UDP_PortNo))    # Bind to IP and Port to make a Socket Address.\n",
    "\n",
    "print(\"Server is waiting...\")    # Listening for incoming datagrams.\n",
    "\n",
    "data, address = serverSocket.recvfrom(1024)  # Receiving the Client packet along with the address it is coming from\n",
    "\n",
    "print(\"Client Message: \",data)  # Printing the Client message.\n"
   ]
  },
  {
   "cell_type": "code",
   "execution_count": null,
   "metadata": {},
   "outputs": [],
   "source": []
  },
  {
   "cell_type": "code",
   "execution_count": null,
   "metadata": {},
   "outputs": [],
   "source": []
  },
  {
   "cell_type": "code",
   "execution_count": null,
   "metadata": {},
   "outputs": [],
   "source": []
  }
 ],
 "metadata": {
  "kernelspec": {
   "display_name": "Python 3",
   "language": "python",
   "name": "python3"
  },
  "language_info": {
   "codemirror_mode": {
    "name": "ipython",
    "version": 3
   },
   "file_extension": ".py",
   "mimetype": "text/x-python",
   "name": "python",
   "nbconvert_exporter": "python",
   "pygments_lexer": "ipython3",
   "version": "3.8.3"
  }
 },
 "nbformat": 4,
 "nbformat_minor": 4
}
