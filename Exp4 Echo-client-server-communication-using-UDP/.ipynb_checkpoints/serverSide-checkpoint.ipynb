{
 "cells": [
  {
   "cell_type": "code",
   "execution_count": 5,
   "metadata": {},
   "outputs": [
    {
     "name": "stdout",
     "output_type": "stream",
     "text": [
      "Server waiting... \n",
      "b'Happy Diwali 2020' ('192.168.1.100', 51208)\n"
     ]
    },
    {
     "data": {
      "text/plain": [
       "17"
      ]
     },
     "execution_count": 5,
     "metadata": {},
     "output_type": "execute_result"
    }
   ],
   "source": [
    "# Python program for Echo client-server communication using UDP connection.\n",
    "# Server side program\n",
    "\n",
    "import socket     # Importing the Socket module to use Socket\n",
    "\n",
    "serverSocket = socket.socket(socket.AF_INET, socket.SOCK_DGRAM)  #  Create the Datagram socket:\n",
    "                                                                 #     * AF_INET - Address family to communicate with Internet Protocol (IPv4).\n",
    "                                                                 #     * SOCK_DGRAM - It is a datagram-based protocol used in UDP.\n",
    "        \n",
    "serverSocket.bind(( \"192.168.1.100\", 5600))    # Bind to IP address and Port number to make a Socket Address.     \n",
    "\n",
    "print(\"Server waiting... \")      # Listening for incoming datagrams.\n",
    "\n",
    "data,address = serverSocket.recvfrom(2048)    # Message along with the address is recived from the client and decoded.\n",
    "\n",
    "print(data, address)   # Displaying the received message along with IP address and Port number.\n",
    "\n",
    "serverSocket.sendto(data, address)  #Received message is sen back to the client.\n",
    "     \n"
   ]
  },
  {
   "cell_type": "code",
   "execution_count": null,
   "metadata": {},
   "outputs": [],
   "source": []
  },
  {
   "cell_type": "code",
   "execution_count": null,
   "metadata": {},
   "outputs": [],
   "source": []
  }
 ],
 "metadata": {
  "kernelspec": {
   "display_name": "Python 3",
   "language": "python",
   "name": "python3"
  },
  "language_info": {
   "codemirror_mode": {
    "name": "ipython",
    "version": 3
   },
   "file_extension": ".py",
   "mimetype": "text/x-python",
   "name": "python",
   "nbconvert_exporter": "python",
   "pygments_lexer": "ipython3",
   "version": "3.8.3"
  }
 },
 "nbformat": 4,
 "nbformat_minor": 4
}
