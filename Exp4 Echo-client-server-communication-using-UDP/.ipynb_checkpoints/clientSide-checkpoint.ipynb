{
 "cells": [
  {
   "cell_type": "code",
   "execution_count": 2,
   "metadata": {},
   "outputs": [
    {
     "name": "stdin",
     "output_type": "stream",
     "text": [
      "Enter the message:  Happy Diwali 2020!\n"
     ]
    },
    {
     "name": "stdout",
     "output_type": "stream",
     "text": [
      "b'Happy Diwali 2020!' ('192.168.1.100', 5600)\n"
     ]
    }
   ],
   "source": [
    "# Python program for Echo client-server communication using UDP connection.\n",
    "# Client side program\n",
    "\n",
    "import socket     # Importing the Socket module to use Socket\n",
    "\n",
    "serverSocket = socket.socket(socket.AF_INET, socket.SOCK_DGRAM)  #  Creating the Datagram socket:\n",
    "                                                                 #     * AF_INET - Address family to communicate with Internet Protocol (IPv4).\n",
    "                                                                 #     * SOCK_DGRAM - It is a datagram-based protocol used in UDP.\n",
    "\n",
    "Message = str(input(\"Enter the message: \")) # Assigning the user input to the Message variable in run time.  \n",
    "\n",
    "serverSocket.sendto(str.encode(Message), (\"192.168.1.100\", 5600)) # Encoding the message along with IP address and Port number.\n",
    "\n",
    "data, address = serverSocket.recvfrom(2048)  # Receiving the message.\n",
    "\n",
    "print(data, address)  # Printing the received message from server."
   ]
  },
  {
   "cell_type": "code",
   "execution_count": null,
   "metadata": {},
   "outputs": [],
   "source": []
  }
 ],
 "metadata": {
  "kernelspec": {
   "display_name": "Python 3",
   "language": "python",
   "name": "python3"
  },
  "language_info": {
   "codemirror_mode": {
    "name": "ipython",
    "version": 3
   },
   "file_extension": ".py",
   "mimetype": "text/x-python",
   "name": "python",
   "nbconvert_exporter": "python",
   "pygments_lexer": "ipython3",
   "version": "3.8.3"
  }
 },
 "nbformat": 4,
 "nbformat_minor": 4
}
